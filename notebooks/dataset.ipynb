{
 "cells": [
  {
   "cell_type": "code",
   "execution_count": null,
   "id": "de376336-78e1-45ea-b075-7d9721d5e480",
   "metadata": {},
   "outputs": [],
   "source": []
  }
 ],
 "metadata": {
  "kernelspec": {
   "display_name": "",
   "name": ""
  },
  "language_info": {
   "name": ""
  }
 },
 "nbformat": 4,
 "nbformat_minor": 5
}
