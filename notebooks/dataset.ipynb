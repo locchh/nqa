{
 "cells": [
  {
   "cell_type": "markdown",
   "id": "cc144e81-d1b9-482b-a7c9-b4b2ee67cc8a",
   "metadata": {},
   "source": [
    "# ToC\n",
    "\n",
    "- Load datasets"
   ]
  },
  {
   "cell_type": "code",
   "execution_count": 1,
   "id": "fe34197e-29fd-470f-a402-1cd1550b60ea",
   "metadata": {},
   "outputs": [
    {
     "name": "stdout",
     "output_type": "stream",
     "text": [
      "locchh\n"
     ]
    }
   ],
   "source": [
    "!huggingface-cli whoami"
   ]
  },
  {
   "cell_type": "markdown",
   "id": "f8e0608f-f144-4748-bfe8-ede61fa79fd1",
   "metadata": {},
   "source": [
    "## Load datasets"
   ]
  },
  {
   "cell_type": "code",
   "execution_count": 14,
   "id": "20d09c57-9518-4eec-b4cd-9ca79ef30f29",
   "metadata": {},
   "outputs": [],
   "source": [
    "import os\n",
    "import re\n",
    "import random\n",
    "from datasets import load_dataset"
   ]
  },
  {
   "cell_type": "code",
   "execution_count": 15,
   "id": "b28d50f6-99bb-47e5-8bed-61198dee5f8f",
   "metadata": {},
   "outputs": [],
   "source": [
    "data = {\n",
    "    \"question\": [],\n",
    "    \"answer\": []\n",
    "}"
   ]
  },
  {
   "cell_type": "markdown",
   "id": "637dc658-800a-4b8c-919d-19eab17285f9",
   "metadata": {},
   "source": [
    "**AI Fundamentals**"
   ]
  },
  {
   "cell_type": "code",
   "execution_count": 57,
   "id": "60328fb0-40f2-4a19-a2b2-3711a2c84d35",
   "metadata": {},
   "outputs": [
    {
     "name": "stdout",
     "output_type": "stream",
     "text": [
      "Lesson_7.2_GPUs and CPUs for AI.md\n",
      "# GPUs and CPUs for AI\n",
      "\n",
      "### General Concepts\n",
      "\n",
      "**1. What are the primary roles of GPUs and CPUs in AI workloads?**\n",
      "\n",
      "A. CPUs handle complex calculations, while GPUs manage basic arithmetic  \n",
      "B. CPUs are optimized for serial tasks, and GPUs excel at parallel processing  \n",
      "C. CPUs are only used for data storage, and GPUs for computations  \n",
      "D. Both CPUs and GPUs serve identical roles in processing  \n",
      "\n",
      "**Answer:** B. CPUs are optimized for serial tasks, and GPUs excel at parallel processing  \n",
      "\n",
      "\n"
     ]
    }
   ],
   "source": [
    "folder_path = \"../assets/exams/\"\n",
    "files = os.listdir(folder_path)\n",
    "file = random.choice(files)\n",
    "print(file)\n",
    "file_path = os.path.join(folder_path, file)\n",
    "\n",
    "with open(file_path, \"r\", encoding=\"utf-8\") as f:\n",
    "    content = f.read()\n",
    "\n",
    "if \"---\" in content:\n",
    "    samples = content.split(\"---\")\n",
    "\n",
    "print(samples[0])"
   ]
  },
  {
   "cell_type": "code",
   "execution_count": 58,
   "id": "34a48e69-8d3e-4c84-acba-673bc887c0f0",
   "metadata": {},
   "outputs": [
    {
     "name": "stdout",
     "output_type": "stream",
     "text": [
      "\n",
      "\n",
      "**2. How do CPUs and GPUs complement each other in processing data?**\n",
      "\n",
      "A. By using the same instruction sets  \n",
      "B. By enabling CPUs to handle general tasks while offloading parallel tasks to GPUs  \n",
      "C. By competing for resources  \n",
      "D. By performing identical functions  \n",
      "\n",
      "**Answer:** B. By enabling CPUs to handle general tasks while offloading parallel tasks to GPUs  \n",
      "\n",
      "\n"
     ]
    }
   ],
   "source": [
    "print(samples[1])"
   ]
  },
  {
   "cell_type": "markdown",
   "id": "3e0cc581-05fe-448e-b2eb-999dd0210b72",
   "metadata": {},
   "source": [
    "**ajsbsd/nvidia-qa**"
   ]
  },
  {
   "cell_type": "code",
   "execution_count": 4,
   "id": "de376336-78e1-45ea-b075-7d9721d5e480",
   "metadata": {},
   "outputs": [
    {
     "data": {
      "text/plain": [
       "DatasetDict({\n",
       "    train: Dataset({\n",
       "        features: ['Unnamed: 0', 'question', 'answer'],\n",
       "        num_rows: 7108\n",
       "    })\n",
       "})"
      ]
     },
     "execution_count": 4,
     "metadata": {},
     "output_type": "execute_result"
    }
   ],
   "source": [
    "dataset_name = \"ajsbsd/nvidia-qa\"\n",
    "nvidia_qa_dataset = load_dataset(dataset_name)\n",
    "nvidia_qa_dataset"
   ]
  },
  {
   "cell_type": "code",
   "execution_count": 5,
   "id": "55881eec-11cd-47ae-b1fe-f1993e338088",
   "metadata": {},
   "outputs": [
    {
     "name": "stdout",
     "output_type": "stream",
     "text": [
      "What is the primary factor influencing performance gains in matrix transposition? \n",
      "\n",
      "The primary factor is memory coalescing, which involves optimizing memory access patterns to ensure that threads access memory locations in a contiguous and coalesced manner.\n"
     ]
    }
   ],
   "source": [
    "random_idx = random.choice(range(nvidia_qa_dataset['train'].num_rows))\n",
    "print(nvidia_qa_dataset['train'][random_idx]['question'],\"\\n\")\n",
    "print(nvidia_qa_dataset['train'][random_idx]['answer'])"
   ]
  },
  {
   "cell_type": "code",
   "execution_count": 6,
   "id": "8244f837-eb16-409e-917e-4a4e892f46dd",
   "metadata": {},
   "outputs": [],
   "source": [
    "for i in range(nvidia_qa_dataset['train'].num_rows):\n",
    "    sample = nvidia_qa_dataset['train'][i]\n",
    "    data['question'].append(sample['question'])\n",
    "    data['answer'].append(sample['answer'])"
   ]
  },
  {
   "cell_type": "markdown",
   "id": "6981b89e-9441-4ff4-9482-5f3d59a81b1b",
   "metadata": {},
   "source": [
    "**arunima29/nvidia_qa_formatted**"
   ]
  },
  {
   "cell_type": "code",
   "execution_count": 7,
   "id": "4ffc9106-0792-49b6-9d54-6b916100232a",
   "metadata": {},
   "outputs": [
    {
     "data": {
      "text/plain": [
       "DatasetDict({\n",
       "    train: Dataset({\n",
       "        features: ['text'],\n",
       "        num_rows: 2977\n",
       "    })\n",
       "})"
      ]
     },
     "execution_count": 7,
     "metadata": {},
     "output_type": "execute_result"
    }
   ],
   "source": [
    "dataset_name = \"arunima29/nvidia_qa_formatted\"\n",
    "nvidia_qa_formatted_dataset = load_dataset(dataset_name)\n",
    "nvidia_qa_formatted_dataset"
   ]
  },
  {
   "cell_type": "code",
   "execution_count": 8,
   "id": "6b6f43d1-5207-47ed-9c38-bd88973642d2",
   "metadata": {},
   "outputs": [
    {
     "data": {
      "text/plain": [
       "'Instruction:\\nWhat is CUDA minor version compatibility, and how does it work?\\n\\nResponse:\\nCUDA minor version compatibility allows applications to dynamically link against any minor version of the CUDA Toolkit within the same major release. This means you can compile your code once and link against libraries, the CUDA runtime, and the user-mode driver from any minor version within the same major version of CUDA Toolkit.\\n'"
      ]
     },
     "execution_count": 8,
     "metadata": {},
     "output_type": "execute_result"
    }
   ],
   "source": [
    "random_idx = random.choice(range(nvidia_qa_formatted_dataset['train'].num_rows))\n",
    "nvidia_qa_formatted_dataset['train'][random_idx]['text']"
   ]
  },
  {
   "cell_type": "code",
   "execution_count": 9,
   "id": "8e608f79-9ee9-4087-a9dd-4b18db3e6300",
   "metadata": {},
   "outputs": [
    {
     "name": "stdout",
     "output_type": "stream",
     "text": [
      "question: What function wrappers are mentioned for GPU programming in MATLAB?\n",
      "answer: Function wrappers like bsxfun, pagefun, and arrayfun are mentioned for GPU programming in MATLAB.\n"
     ]
    }
   ],
   "source": [
    "def preprocess_text(input_text):\n",
    "    \"\"\"\n",
    "    Extracts the question (Instruction) and answer (Response) from the input text.\n",
    "\n",
    "    Args:\n",
    "        input_text (str): The text containing Instruction and Response sections.\n",
    "\n",
    "    Returns:\n",
    "        dict: A dictionary with keys 'question' and 'answer'.\n",
    "    \"\"\"\n",
    "    # Define patterns to extract Instruction and Response\n",
    "    instruction_pattern = r\"Instruction:\\n(.*?)\\n\\nResponse:\"\n",
    "    response_pattern = r\"Response:\\n(.*)\"\n",
    "\n",
    "    # Extract Instruction (question)\n",
    "    question_match = re.search(instruction_pattern, input_text, re.DOTALL)\n",
    "    question = question_match.group(1).strip() if question_match else None\n",
    "\n",
    "    # Extract Response (answer)\n",
    "    answer_match = re.search(response_pattern, input_text, re.DOTALL)\n",
    "    answer = answer_match.group(1).strip() if answer_match else None\n",
    "\n",
    "    return question,answer\n",
    "\n",
    "# Example usage\n",
    "input_text = \"\"\"Instruction:\\nWhat function wrappers are mentioned for GPU programming in MATLAB?\\n\\nResponse:\\nFunction wrappers like bsxfun, pagefun, and arrayfun are mentioned for GPU programming in MATLAB.\\n\"\"\"\n",
    "\n",
    "question, answer = preprocess_text(input_text)\n",
    "\n",
    "print(\"question:\", question)\n",
    "print(\"answer:\", answer)"
   ]
  },
  {
   "cell_type": "code",
   "execution_count": 10,
   "id": "77a998f4-32f2-4369-b3e4-109c52ddefa3",
   "metadata": {},
   "outputs": [],
   "source": [
    "for i in range(nvidia_qa_formatted_dataset['train'].num_rows):\n",
    "    sample = nvidia_qa_formatted_dataset['train'][i]\n",
    "    question, answer = preprocess_text(sample['text'])\n",
    "    data['question'].append(question)\n",
    "    data['answer'].append(answer)"
   ]
  },
  {
   "cell_type": "code",
   "execution_count": 11,
   "id": "8f44f79d-af4f-4329-aa5b-c57285310393",
   "metadata": {},
   "outputs": [
    {
     "data": {
      "text/plain": [
       "10085"
      ]
     },
     "execution_count": 11,
     "metadata": {},
     "output_type": "execute_result"
    }
   ],
   "source": [
    "len(data['question'])"
   ]
  },
  {
   "cell_type": "code",
   "execution_count": 12,
   "id": "103299a0-0bd4-4ae9-a33e-a1dbde211985",
   "metadata": {},
   "outputs": [
    {
     "data": {
      "text/plain": [
       "10085"
      ]
     },
     "execution_count": 12,
     "metadata": {},
     "output_type": "execute_result"
    }
   ],
   "source": [
    "len(data['answer'])"
   ]
  },
  {
   "cell_type": "code",
   "execution_count": null,
   "id": "6328dfb0-103c-4451-b86a-f20f777cb107",
   "metadata": {},
   "outputs": [],
   "source": []
  },
  {
   "cell_type": "code",
   "execution_count": null,
   "id": "a18137c5-6cf0-4605-8f47-01f867db26bb",
   "metadata": {},
   "outputs": [],
   "source": []
  }
 ],
 "metadata": {
  "kernelspec": {
   "display_name": "Python 3 (ipykernel)",
   "language": "python",
   "name": "python3"
  },
  "language_info": {
   "codemirror_mode": {
    "name": "ipython",
    "version": 3
   },
   "file_extension": ".py",
   "mimetype": "text/x-python",
   "name": "python",
   "nbconvert_exporter": "python",
   "pygments_lexer": "ipython3",
   "version": "3.8.20"
  }
 },
 "nbformat": 4,
 "nbformat_minor": 5
}
